{
 "cells": [
  {
   "cell_type": "code",
   "execution_count": 1,
   "metadata": {
    "scrolled": true
   },
   "outputs": [],
   "source": [
    "# Dependencies and Setup\n",
    "import matplotlib.pyplot as plt\n",
    "import pandas as pd\n",
    "import numpy as np\n",
    "import requests\n",
    "import scipy\n",
    "import json\n",
    "import time\n",
    "\n",
    "# Import API key\n",
    "from Config import api_key\n",
    "\n",
    "# Incorporated citipy to determine city based on latitude and longitude\n",
    "from citipy import citipy\n",
    "\n",
    "# Output File (CSV)\n",
    "output_data_file = \"output_data/cities.csv\"\n",
    "\n",
    "# Range of latitudes and longitudes\n",
    "lat_range = (-90, 90)\n",
    "lng_range = (-180, 180)"
   ]
  },
  {
   "cell_type": "markdown",
   "metadata": {},
   "source": [
    "## Generate Cities List"
   ]
  },
  {
   "cell_type": "code",
   "execution_count": 2,
   "metadata": {},
   "outputs": [
    {
     "name": "stdout",
     "output_type": "stream",
     "text": [
      "616\n"
     ]
    }
   ],
   "source": [
    "# List for holding lat_lngs and cities\n",
    "lat_lngs = []\n",
    "cities = []\n",
    "temp = []\n",
    "humidity= []\n",
    "clouds = []\n",
    "wind = []\n",
    "lat = []\n",
    "lng = []\n",
    "missing_cities = []\n",
    "\n",
    "# Create a set of random lat and lng combinations\n",
    "# lats = np.linspace(90.000, -90.000, 1800)\n",
    "# lngs = np.linspace(180.000, -180.000, 3600)\n",
    "lats = np.random.uniform(low=-90.000, high=90.000, size=1500)\n",
    "lngs = np.random.uniform(low=-180.000, high=180.000, size=1500)\n",
    "lat_lngs = zip(lats, lngs)\n",
    "\n",
    "# Identify nearest city for each lat, lng combination\n",
    "for lat_lng in lat_lngs:\n",
    "    city = citipy.nearest_city(lat_lng[0], lat_lng[1]).city_name\n",
    "    \n",
    "    # If the city is unique, then add it to a our cities list\n",
    "    if city not in cities:\n",
    "        cities.append(city)\n",
    "\n",
    "# Print the city count to confirm sufficient count\n",
    "print(len(cities))"
   ]
  },
  {
   "cell_type": "markdown",
   "metadata": {},
   "source": [
    "## Perform API Calls"
   ]
  },
  {
   "cell_type": "code",
   "execution_count": null,
   "metadata": {},
   "outputs": [
    {
     "name": "stdout",
     "output_type": "stream",
     "text": [
      "Processing Record 1 of 616 |   port alfred\n",
      "http://api.openweathermap.org/data/2.5/weather?units=Imperial&APPID=e4fb5009466cf359b2b878ed2174f47c&q=port alfred\n",
      "---------------------------------------------------------\n",
      "Processing Record 2 of 616 |   grindavik\n",
      "http://api.openweathermap.org/data/2.5/weather?units=Imperial&APPID=e4fb5009466cf359b2b878ed2174f47c&q=grindavik\n",
      "---------------------------------------------------------\n",
      "Processing Record 3 of 616 |   nanortalik\n",
      "http://api.openweathermap.org/data/2.5/weather?units=Imperial&APPID=e4fb5009466cf359b2b878ed2174f47c&q=nanortalik\n",
      "---------------------------------------------------------\n",
      "Processing Record 4 of 616 |   faya\n",
      "http://api.openweathermap.org/data/2.5/weather?units=Imperial&APPID=e4fb5009466cf359b2b878ed2174f47c&q=faya\n",
      "---------------------------------------------------------\n",
      "Processing Record 5 of 616 |   naze\n",
      "http://api.openweathermap.org/data/2.5/weather?units=Imperial&APPID=e4fb5009466cf359b2b878ed2174f47c&q=naze\n",
      "---------------------------------------------------------\n",
      "Processing Record 6 of 616 |   tessalit\n",
      "http://api.openweathermap.org/data/2.5/weather?units=Imperial&APPID=e4fb5009466cf359b2b878ed2174f47c&q=tessalit\n",
      "---------------------------------------------------------\n",
      "Processing Record 7 of 616 |   shingu\n",
      "http://api.openweathermap.org/data/2.5/weather?units=Imperial&APPID=e4fb5009466cf359b2b878ed2174f47c&q=shingu\n",
      "---------------------------------------------------------\n"
     ]
    }
   ],
   "source": [
    "\n",
    "# Starting URL for Weather Map API Call\n",
    "counter = 0\n",
    "cleaned_cities = []\n",
    "city_count = len(cities)\n",
    "url = \"http://api.openweathermap.org/data/2.5/weather?units=Imperial&APPID=\" + api_key\n",
    "while time.process_time() > counter and counter < city_count:\n",
    "    for counter, city in enumerate(cities):    \n",
    "        query = f\"{url}&q={city}\"\n",
    "        response = requests.get(query).json()\n",
    "        print(f\"Processing Record {counter+1} of {city_count} |   {city}\")\n",
    "        print(query)\n",
    "        try:\n",
    "            temp.append(response[\"main\"][\"temp\"])\n",
    "            humidity.append(response[\"main\"][\"humidity\"])\n",
    "            clouds.append(response[\"clouds\"][\"all\"])\n",
    "            wind.append(response[\"wind\"][\"speed\"])\n",
    "            lat.append(response[\"coord\"][\"lat\"])\n",
    "            lng.append(response[\"coord\"][\"lon\"])\n",
    "            cleaned_cities.append(city)\n",
    "        except KeyError as e:\n",
    "            print(\"City not found, skipping\")\n",
    "            missing_cities.append(city)\n",
    "        print(\"---------------------------------------------------------\")\n",
    "\n",
    "print(\"---------------------------------------------------------\")\n",
    "print(\"-----------------Data Retrieval Complete-----------------\")\n",
    "print(\"---------------------------------------------------------\")\n"
   ]
  },
  {
   "cell_type": "code",
   "execution_count": null,
   "metadata": {},
   "outputs": [],
   "source": [
    "Weather_Dict = {\n",
    "    \"city\": cleaned_cities,\n",
    "    \"temp\":temp,\n",
    "    \"humidity\":humidity,\n",
    "    \"clouds\":clouds,\n",
    "    \"Wind Speed\":wind,\n",
    "    \"lat\":lat,\n",
    "    \"lng\":lng,\n",
    "\n",
    "}\n",
    "Weather_DF = pd.DataFrame(Weather_Dict)\n",
    "Weather_DF.tail()\n",
    "Weather_DF.to_csv(\"cityWeather.csv\")"
   ]
  },
  {
   "cell_type": "code",
   "execution_count": null,
   "metadata": {
    "scrolled": true
   },
   "outputs": [],
   "source": [
    "#Temp VS Latitude\n",
    "plt.figure(figsize=(12,6))\n",
    "plt.scatter(Weather_DF[\"lat\"], Weather_DF[\"temp\"])\n",
    "plt.xlim(-80, 90)\n",
    "plt.title(\"Temperature vs Latitute\")\n",
    "plt.grid(b=True)\n",
    "plt.ylabel(\"Temperature (F)\")\n",
    "plt.xlabel(\"Latitutde\")\n",
    "plt.savefig(\"TempvsLat.png\")"
   ]
  },
  {
   "cell_type": "code",
   "execution_count": null,
   "metadata": {},
   "outputs": [],
   "source": [
    "#Humidity VS Latitude\n",
    "x = Weather_DF[\"lat\"]\n",
    "y = Weather_DF[\"humidity\"]\n",
    "plt.figure(figsize=(12,6))\n",
    "plt.scatter(x,y)\n",
    "plt.xlim(-80, 90)\n",
    "plt.title(\"Humidity vs Latitute\")\n",
    "plt.ylabel(\"Humidity (%)\")\n",
    "plt.xlabel(\"Latitutde\")\n",
    "plt.grid(b=True)\n",
    "plt.savefig(\"HumidvsLat.png\")\n"
   ]
  },
  {
   "cell_type": "code",
   "execution_count": null,
   "metadata": {},
   "outputs": [],
   "source": [
    "#Cloudiness vs Latitude\n",
    "plt.figure(figsize=(12,6))\n",
    "plt.scatter(Weather_DF[\"lat\"], Weather_DF[\"clouds\"])\n",
    "plt.xlim(-80, 90)\n",
    "plt.title(\"Cloudiness vs Latitutde\")\n",
    "plt.grid(b=True)\n",
    "\n",
    "plt.ylabel(\"Cloud Cover (%)\")\n",
    "plt.xlabel(\"Latitutde\")\n",
    "plt.savefig(\"CloudsvsLat.png\")\n"
   ]
  },
  {
   "cell_type": "code",
   "execution_count": null,
   "metadata": {},
   "outputs": [],
   "source": [
    "#Wind Speed Vs Latitude\n",
    "plt.figure(figsize=(12,6))\n",
    "plt.scatter(Weather_DF[\"lat\"], Weather_DF[\"Wind Speed\"])\n",
    "plt.xlim(-80, 90)\n",
    "plt.title(\"Wind Speed vs Latitute\")\n",
    "plt.ylabel(\"Wind Speed (mph)\")\n",
    "plt.xlabel(\"Latitutde\")\n",
    "plt.grid(b=True)\n",
    "plt.savefig(\"WindvsLat.png\")\n"
   ]
  },
  {
   "cell_type": "code",
   "execution_count": null,
   "metadata": {},
   "outputs": [],
   "source": []
  },
  {
   "cell_type": "code",
   "execution_count": null,
   "metadata": {},
   "outputs": [],
   "source": []
  }
 ],
 "metadata": {
  "anaconda-cloud": {},
  "kernelspec": {
   "display_name": "Python [default]",
   "language": "python",
   "name": "python3"
  },
  "language_info": {
   "codemirror_mode": {
    "name": "ipython",
    "version": 3
   },
   "file_extension": ".py",
   "mimetype": "text/x-python",
   "name": "python",
   "nbconvert_exporter": "python",
   "pygments_lexer": "ipython3",
   "version": "3.6.5"
  }
 },
 "nbformat": 4,
 "nbformat_minor": 1
}
