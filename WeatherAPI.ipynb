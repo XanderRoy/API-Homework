{
 "cells": [
  {
   "cell_type": "code",
   "execution_count": 1,
   "metadata": {
    "scrolled": true
   },
   "outputs": [],
   "source": [
    "# Dependencies and Setup\n",
    "import matplotlib.pyplot as plt\n",
    "import pandas as pd\n",
    "import numpy as np\n",
    "import requests\n",
    "import json\n",
    "import time\n",
    "\n",
    "# Import API key\n",
    "from Config import api_key\n",
    "\n",
    "# Incorporated citipy to determine city based on latitude and longitude\n",
    "from citipy import citipy\n",
    "\n",
    "# Output File (CSV)\n",
    "output_data_file = \"output_data/cities.csv\"\n",
    "\n",
    "# Range of latitudes and longitudes\n",
    "lat_range = (-90, 90)\n",
    "lng_range = (-180, 180)"
   ]
  },
  {
   "cell_type": "markdown",
   "metadata": {},
   "source": [
    "## Generate Cities List"
   ]
  },
  {
   "cell_type": "code",
   "execution_count": 2,
   "metadata": {},
   "outputs": [
    {
     "name": "stdout",
     "output_type": "stream",
     "text": [
      "19\n",
      "2.28125\n"
     ]
    }
   ],
   "source": [
    "# List for holding lat_lngs and cities\n",
    "lat_lngs = []\n",
    "cities = []\n",
    "temp = []\n",
    "humidity= []\n",
    "clouds = []\n",
    "wind = []\n",
    "lat = []\n",
    "lng = []\n",
    "missing_cities = []\n",
    "\n",
    "# Create a set of random lat and lng combinations\n",
    "# lats = np.linspace(90.000, -90.000, 1800)\n",
    "# lngs = np.linspace(180.000, -180.000, 3600)\n",
    "lats = np.random.uniform(low=-90.000, high=90.000, size=20)\n",
    "lngs = np.random.uniform(low=-180.000, high=180.000, size=20)\n",
    "lat_lngs = zip(lats, lngs)\n",
    "\n",
    "# Identify nearest city for each lat, lng combination\n",
    "for lat_lng in lat_lngs:\n",
    "    city = citipy.nearest_city(lat_lng[0], lat_lng[1]).city_name\n",
    "    \n",
    "    # If the city is unique, then add it to a our cities list\n",
    "    if city not in cities:\n",
    "        cities.append(city)\n",
    "\n",
    "# Print the city count to confirm sufficient count\n",
    "print(len(cities))\n",
    "print(time.process_time())"
   ]
  },
  {
   "cell_type": "markdown",
   "metadata": {},
   "source": [
    "## Perform API Calls"
   ]
  },
  {
   "cell_type": "code",
   "execution_count": 3,
   "metadata": {},
   "outputs": [
    {
     "name": "stdout",
     "output_type": "stream",
     "text": [
      "1 of 19 cities called\n",
      "coahuayana\n",
      "------------------\n",
      "2 of 19 cities called\n",
      "pandan\n",
      "------------------\n",
      "3 of 19 cities called\n",
      "hermanus\n",
      "------------------\n",
      "4 of 19 cities called\n",
      "ulaangom\n",
      "------------------\n",
      "5 of 19 cities called\n",
      "saint-pierre\n",
      "------------------\n",
      "6 of 19 cities called\n",
      "punta arenas\n",
      "------------------\n",
      "7 of 19 cities called\n",
      "jatai\n",
      "------------------\n",
      "8 of 19 cities called\n",
      "nanortalik\n",
      "------------------\n",
      "9 of 19 cities called\n",
      "georgetown\n",
      "------------------\n",
      "10 of 19 cities called\n",
      "rio grande\n",
      "------------------\n",
      "11 of 19 cities called\n",
      "dikson\n",
      "------------------\n",
      "12 of 19 cities called\n",
      "mataura\n",
      "------------------\n",
      "13 of 19 cities called\n",
      "dhidhdhoo\n",
      "------------------\n",
      "14 of 19 cities called\n",
      "rikitea\n",
      "------------------\n",
      "15 of 19 cities called\n",
      "barrow\n",
      "------------------\n",
      "16 of 19 cities called\n",
      "ossora\n",
      "------------------\n",
      "17 of 19 cities called\n",
      "maniitsoq\n",
      "------------------\n",
      "18 of 19 cities called\n",
      "korla\n",
      "404'main'\n",
      "city not found\n",
      "------------------\n",
      "19 of 19 cities called\n",
      "tsihombe\n",
      "404'main'\n",
      "city not found\n",
      "------------------\n"
     ]
    }
   ],
   "source": [
    "\n",
    "# Starting URL for Weather Map API Call\n",
    "counter = 0\n",
    "cleaned_cities = []\n",
    "city_count = len(cities)\n",
    "url = \"http://api.openweathermap.org/data/2.5/weather?units=Imperial&APPID=\" + api_key\n",
    "while time.process_time() > counter:\n",
    "    for counter, city in enumerate(cities):    \n",
    "        query = f\"{url}&q={city}\"\n",
    "        response = requests.get(query).json()\n",
    "        print(f\"{counter+1} of {city_count} cities called\")\n",
    "        print(city)\n",
    "        try:\n",
    "            temp.append(response[\"main\"][\"temp\"])\n",
    "            humidity.append(response[\"main\"][\"humidity\"])\n",
    "            clouds.append(response[\"clouds\"][\"all\"])\n",
    "            wind.append(response[\"wind\"][\"speed\"])\n",
    "            lat.append(response[\"coord\"][\"lat\"])\n",
    "            lng.append(response[\"coord\"][\"lon\"])\n",
    "            cleaned_cities.append(city)\n",
    "        except KeyError as e:\n",
    "            print(str(response[\"cod\"]) + str(e))\n",
    "            print(response[\"message\"])\n",
    "            missing_cities.append(city)\n",
    "        print(\"------------------\")\n",
    "\n"
   ]
  },
  {
   "cell_type": "code",
   "execution_count": 4,
   "metadata": {},
   "outputs": [
    {
     "data": {
      "text/html": [
       "<div>\n",
       "<style scoped>\n",
       "    .dataframe tbody tr th:only-of-type {\n",
       "        vertical-align: middle;\n",
       "    }\n",
       "\n",
       "    .dataframe tbody tr th {\n",
       "        vertical-align: top;\n",
       "    }\n",
       "\n",
       "    .dataframe thead th {\n",
       "        text-align: right;\n",
       "    }\n",
       "</style>\n",
       "<table border=\"1\" class=\"dataframe\">\n",
       "  <thead>\n",
       "    <tr style=\"text-align: right;\">\n",
       "      <th></th>\n",
       "      <th>city</th>\n",
       "      <th>temp</th>\n",
       "      <th>humidity</th>\n",
       "      <th>clouds</th>\n",
       "      <th>Wind Speed</th>\n",
       "      <th>lat</th>\n",
       "      <th>lng</th>\n",
       "    </tr>\n",
       "  </thead>\n",
       "  <tbody>\n",
       "    <tr>\n",
       "      <th>12</th>\n",
       "      <td>dhidhdhoo</td>\n",
       "      <td>81.11</td>\n",
       "      <td>100</td>\n",
       "      <td>20</td>\n",
       "      <td>9.19</td>\n",
       "      <td>6.88</td>\n",
       "      <td>73.10</td>\n",
       "    </tr>\n",
       "    <tr>\n",
       "      <th>13</th>\n",
       "      <td>rikitea</td>\n",
       "      <td>69.23</td>\n",
       "      <td>100</td>\n",
       "      <td>44</td>\n",
       "      <td>18.48</td>\n",
       "      <td>-23.12</td>\n",
       "      <td>-134.97</td>\n",
       "    </tr>\n",
       "    <tr>\n",
       "      <th>14</th>\n",
       "      <td>barrow</td>\n",
       "      <td>51.41</td>\n",
       "      <td>67</td>\n",
       "      <td>76</td>\n",
       "      <td>4.05</td>\n",
       "      <td>-38.31</td>\n",
       "      <td>-60.23</td>\n",
       "    </tr>\n",
       "    <tr>\n",
       "      <th>15</th>\n",
       "      <td>ossora</td>\n",
       "      <td>48.08</td>\n",
       "      <td>96</td>\n",
       "      <td>92</td>\n",
       "      <td>5.73</td>\n",
       "      <td>59.24</td>\n",
       "      <td>163.07</td>\n",
       "    </tr>\n",
       "    <tr>\n",
       "      <th>16</th>\n",
       "      <td>maniitsoq</td>\n",
       "      <td>33.95</td>\n",
       "      <td>100</td>\n",
       "      <td>76</td>\n",
       "      <td>10.31</td>\n",
       "      <td>65.42</td>\n",
       "      <td>-52.90</td>\n",
       "    </tr>\n",
       "  </tbody>\n",
       "</table>\n",
       "</div>"
      ],
      "text/plain": [
       "         city   temp  humidity  clouds  Wind Speed    lat     lng\n",
       "12  dhidhdhoo  81.11       100      20        9.19   6.88   73.10\n",
       "13    rikitea  69.23       100      44       18.48 -23.12 -134.97\n",
       "14     barrow  51.41        67      76        4.05 -38.31  -60.23\n",
       "15     ossora  48.08        96      92        5.73  59.24  163.07\n",
       "16  maniitsoq  33.95       100      76       10.31  65.42  -52.90"
      ]
     },
     "execution_count": 4,
     "metadata": {},
     "output_type": "execute_result"
    }
   ],
   "source": [
    "Weather_Dict = {\n",
    "    \"city\": cleaned_cities,\n",
    "    \"temp\":temp,\n",
    "    \"humidity\":humidity,\n",
    "    \"clouds\":clouds,\n",
    "    \"Wind Speed\":wind,\n",
    "    \"lat\":lat,\n",
    "    \"lng\":lng,\n",
    "\n",
    "}\n",
    "Weather_DF = pd.DataFrame(Weather_Dict)\n",
    "Weather_DF.tail()"
   ]
  },
  {
   "cell_type": "code",
   "execution_count": 6,
   "metadata": {},
   "outputs": [
    {
     "data": {
      "text/plain": [
       "'tsihombe'"
      ]
     },
     "execution_count": 6,
     "metadata": {},
     "output_type": "execute_result"
    }
   ],
   "source": [
    "#Temp VS Latitude\n",
    "\n",
    "city"
   ]
  },
  {
   "cell_type": "code",
   "execution_count": 7,
   "metadata": {},
   "outputs": [],
   "source": [
    "#Humidity VS Latitude"
   ]
  },
  {
   "cell_type": "code",
   "execution_count": 8,
   "metadata": {},
   "outputs": [],
   "source": [
    "#Cloudiness vs Latitude"
   ]
  },
  {
   "cell_type": "code",
   "execution_count": 9,
   "metadata": {},
   "outputs": [],
   "source": [
    "#Wind Speed Vs Latitude"
   ]
  },
  {
   "cell_type": "code",
   "execution_count": 10,
   "metadata": {},
   "outputs": [
    {
     "name": "stdout",
     "output_type": "stream",
     "text": [
      "114.72576645141228\n",
      "114.72576645141228\n",
      "114.72576645141228\n",
      "114.72576645141228\n",
      "114.72576645141228\n",
      "114.72576645141228\n",
      "114.72576645141228\n",
      "114.72576645141228\n",
      "114.72576645141228\n",
      "114.72576645141228\n",
      "114.72576645141228\n",
      "114.72576645141228\n",
      "114.72576645141228\n",
      "114.72576645141228\n",
      "114.72576645141228\n",
      "114.72576645141228\n",
      "114.72576645141228\n",
      "114.72576645141228\n",
      "114.72576645141228\n",
      "114.72576645141228\n"
     ]
    }
   ],
   "source": [
    "for lat in lats:\n",
    "    print(sum(lats))"
   ]
  },
  {
   "cell_type": "code",
   "execution_count": null,
   "metadata": {},
   "outputs": [],
   "source": []
  }
 ],
 "metadata": {
  "anaconda-cloud": {},
  "kernelspec": {
   "display_name": "Python [default]",
   "language": "python",
   "name": "python3"
  },
  "language_info": {
   "codemirror_mode": {
    "name": "ipython",
    "version": 3
   },
   "file_extension": ".py",
   "mimetype": "text/x-python",
   "name": "python",
   "nbconvert_exporter": "python",
   "pygments_lexer": "ipython3",
   "version": "3.6.5"
  }
 },
 "nbformat": 4,
 "nbformat_minor": 1
}
